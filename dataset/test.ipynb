{
 "cells": [
  {
   "cell_type": "code",
   "execution_count": 1,
   "metadata": {},
   "outputs": [
    {
     "ename": "ModuleNotFoundError",
     "evalue": "No module named 'matplotlib'",
     "output_type": "error",
     "traceback": [
      "\u001b[31m---------------------------------------------------------------------------\u001b[39m",
      "\u001b[31mModuleNotFoundError\u001b[39m                       Traceback (most recent call last)",
      "\u001b[36mCell\u001b[39m\u001b[36m \u001b[39m\u001b[32mIn[1]\u001b[39m\u001b[32m, line 11\u001b[39m\n\u001b[32m      5\u001b[39m \u001b[38;5;66;03m# 대구 무게\u001b[39;00m\n\u001b[32m      6\u001b[39m bream_weight = [\u001b[32m242.0\u001b[39m, \u001b[32m290.0\u001b[39m, \u001b[32m340.0\u001b[39m, \u001b[32m363.0\u001b[39m, \u001b[32m430.0\u001b[39m, \u001b[32m450.0\u001b[39m, \u001b[32m500.0\u001b[39m, \u001b[32m390.0\u001b[39m, \u001b[32m450.0\u001b[39m, \u001b[32m500.0\u001b[39m, \u001b[32m475.0\u001b[39m, \u001b[32m500.0\u001b[39m, \n\u001b[32m      7\u001b[39m                 \u001b[32m500.0\u001b[39m, \u001b[32m340.0\u001b[39m, \u001b[32m600.0\u001b[39m, \u001b[32m600.0\u001b[39m, \u001b[32m700.0\u001b[39m, \u001b[32m700.0\u001b[39m, \u001b[32m610.0\u001b[39m, \u001b[32m650.0\u001b[39m, \u001b[32m575.0\u001b[39m, \u001b[32m685.0\u001b[39m, \u001b[32m620.0\u001b[39m, \u001b[32m680.0\u001b[39m, \n\u001b[32m      8\u001b[39m                 \u001b[32m700.0\u001b[39m, \u001b[32m725.0\u001b[39m, \u001b[32m720.0\u001b[39m, \u001b[32m714.0\u001b[39m, \u001b[32m850.0\u001b[39m, \u001b[32m1000.0\u001b[39m, \u001b[32m920.0\u001b[39m, \u001b[32m955.0\u001b[39m, \u001b[32m925.0\u001b[39m, \u001b[32m975.0\u001b[39m, \u001b[32m950.0\u001b[39m]\n\u001b[32m---> \u001b[39m\u001b[32m11\u001b[39m \u001b[38;5;28;01mimport\u001b[39;00m\u001b[38;5;250m \u001b[39m\u001b[34;01mmatplotlib\u001b[39;00m\u001b[34;01m.\u001b[39;00m\u001b[34;01mpyplot\u001b[39;00m\u001b[38;5;250m \u001b[39m\u001b[38;5;28;01mas\u001b[39;00m\u001b[38;5;250m \u001b[39m\u001b[34;01mplt\u001b[39;00m\n\u001b[32m     13\u001b[39m plt.scatter(bream_length,bream_weight)\n\u001b[32m     14\u001b[39m plt.xlabel(\u001b[33m\"\u001b[39m\u001b[33mlength\u001b[39m\u001b[33m\"\u001b[39m)\n",
      "\u001b[31mModuleNotFoundError\u001b[39m: No module named 'matplotlib'"
     ]
    }
   ],
   "source": [
    "# 대구 길이 \n",
    "bream_length = [25.4, 26.3, 26.5, 29.0, 29.0, 29.7, 29.7, 30.0, 30.0, 30.7, 31.0, 31.0, \n",
    "                31.5, 32.0, 32.0, 32.0, 33.0, 33.0, 33.5, 33.5, 34.0, 34.0, 34.5, 35.0, \n",
    "                35.0, 35.0, 35.0, 36.0, 36.0, 37.0, 38.5, 38.5, 39.5, 41.0, 41.0]\n",
    "# 대구 무게\n",
    "bream_weight = [242.0, 290.0, 340.0, 363.0, 430.0, 450.0, 500.0, 390.0, 450.0, 500.0, 475.0, 500.0, \n",
    "                500.0, 340.0, 600.0, 600.0, 700.0, 700.0, 610.0, 650.0, 575.0, 685.0, 620.0, 680.0, \n",
    "                700.0, 725.0, 720.0, 714.0, 850.0, 1000.0, 920.0, 955.0, 925.0, 975.0, 950.0]\n",
    "\n",
    "\n",
    "import matplotlib.pyplot as plt\n",
    "\n",
    "plt.scatter(bream_length,bream_weight)\n",
    "plt.xlabel(\"length\")\n",
    "plt.ylabel(\"weight\")\n",
    "plt.show()\n",
    "\n",
    "# 빙어의 길이\n",
    "smelt_length = [9.8, 10.5, 10.6, 11.0, 11.2, 11.3, 11.8, 11.8, 12.0, 12.2, 12.4, 13.0, 14.3, 15.0]\n",
    "# 빙어의 무게\n",
    "smelt_weight = [6.7, 7.5, 7.0, 9.7, 9.8, 8.7, 10.0, 9.9, 9.8, 12.2, 13.4, 12.2, 19.7, 19.9]\n",
    "\n",
    "plt.scatter(smelt_length,smelt_weight)\n",
    "plt.xlabel(\"length\")\n",
    "plt.ylabel(\"weight\")\n",
    "plt.show()\n",
    "\n",
    "\n",
    "length=bream_length+smelt_length\n",
    "weight=bream_weight+smelt_weight\n",
    "\n",
    "\n",
    "\n",
    "\n",
    "zip_data=zip(length,weight)\n",
    "\n",
    "fish_data=[]\n",
    "for l,w in zip_data:\n",
    "    fish_data.append([l,w])\n",
    "\n",
    "print(fish_data)\n",
    "\n",
    "\n",
    "fish_target=[1]*35+[0]*14\n",
    "print(fish_target)\n",
    "\n",
    "\n",
    "from sklearn.neighbors import KNeighborsClassifier\n",
    "\n",
    "kn=KNeighborsClassifier()\n",
    "\n",
    "kn.fit(fish_data,fish_target)\n",
    "\n",
    "kn.score(fish_data,fish_target)\n",
    "\n",
    "plt.scatter(bream_length,bream_weight)\n",
    "plt.scatter(smelt_length,smelt_weight)\n",
    "plt.scatter(30,600,marker=\"^\")\n",
    "\n",
    "plt.xlabel(\"length\")\n",
    "plt.ylabel(\"weight\")\n",
    "plt.show()\n",
    "\n",
    "kn.predict([[30,600]])\n",
    "\n",
    "print(kn._fit_X)\n",
    "\n",
    "print(kn._y)\n",
    "\n",
    "\n",
    "k49=KNeighborsClassifier(n_neighbors=49)\n",
    "\n",
    "k49.fit(fish_data,fish_target)\n",
    "\n",
    "k49.score(fish_data,fish_target)\n",
    "\n",
    "print(35/49)"
   ]
  },
  {
   "cell_type": "code",
   "execution_count": null,
   "metadata": {},
   "outputs": [],
   "source": []
  }
 ],
 "metadata": {
  "kernelspec": {
   "display_name": "mlbasic",
   "language": "python",
   "name": "python3"
  },
  "language_info": {
   "codemirror_mode": {
    "name": "ipython",
    "version": 3
   },
   "file_extension": ".py",
   "mimetype": "text/x-python",
   "name": "python",
   "nbconvert_exporter": "python",
   "pygments_lexer": "ipython3",
   "version": "3.12.9"
  }
 },
 "nbformat": 4,
 "nbformat_minor": 2
}
