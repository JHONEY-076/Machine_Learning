{
 "cells": [
  {
   "cell_type": "markdown",
   "id": "286d55e1",
   "metadata": {},
   "source": [
    "# Random Search 사용한 하이퍼파라미터 최적화"
   ]
  },
  {
   "cell_type": "markdown",
   "id": "1ca4f6d7",
   "metadata": {},
   "source": [
    "## 데이터 가져오기"
   ]
  },
  {
   "cell_type": "code",
   "execution_count": 75,
   "id": "a09e4b2d",
   "metadata": {},
   "outputs": [],
   "source": [
    "import pandas as pd\n",
    "from sklearn.model_selection import train_test_split"
   ]
  },
  {
   "cell_type": "code",
   "execution_count": 76,
   "id": "984c2f72",
   "metadata": {},
   "outputs": [],
   "source": [
    "wine=pd.read_csv(\"https://bit.ly/wine_csv_data\")\n",
    "data=wine[[\"alcohol\",\"sugar\",\"pH\"]].to_numpy()\n",
    "target=wine[\"class\"].to_numpy()"
   ]
  },
  {
   "cell_type": "code",
   "execution_count": 77,
   "id": "348d9e57",
   "metadata": {},
   "outputs": [],
   "source": [
    "from sklearn.model_selection import train_test_split\n",
    "train_input,test_input,train_target,test_target=train_test_split(data,target,test_size=0.2,random_state=42)"
   ]
  },
  {
   "cell_type": "markdown",
   "id": "c7e4974e",
   "metadata": {},
   "source": [
    "# 확률 분포 객체"
   ]
  },
  {
   "cell_type": "code",
   "execution_count": 78,
   "id": "ea07979e",
   "metadata": {},
   "outputs": [],
   "source": [
    "from scipy.stats import uniform, randint\n",
    "import numpy as np"
   ]
  },
  {
   "cell_type": "code",
   "execution_count": 79,
   "id": "568eda41",
   "metadata": {},
   "outputs": [],
   "source": [
    "rgen = randint(0,10) ## 0~9까지의 숫자를 랜던하게 생성하는것"
   ]
  },
  {
   "cell_type": "code",
   "execution_count": 80,
   "id": "942d410f",
   "metadata": {},
   "outputs": [],
   "source": [
    "ran_int=rgen.rvs(10)## 0~9까지의 숫자를 랜덤하게 10번 뽑아내는것"
   ]
  },
  {
   "cell_type": "code",
   "execution_count": 81,
   "id": "c06914b5",
   "metadata": {},
   "outputs": [],
   "source": [
    "ran_int_1000=rgen.rvs(1000)"
   ]
  },
  {
   "cell_type": "code",
   "execution_count": 82,
   "id": "c3ed6d21",
   "metadata": {},
   "outputs": [
    {
     "data": {
      "text/plain": [
       "(array([0, 1, 2, 3, 4, 5, 6, 7, 8, 9]),\n",
       " array([107, 100, 118,  79,  99, 112,  91, 103, 101,  90]))"
      ]
     },
     "execution_count": 82,
     "metadata": {},
     "output_type": "execute_result"
    }
   ],
   "source": [
    "np.unique(ran_int_1000,return_counts=True)"
   ]
  },
  {
   "cell_type": "code",
   "execution_count": 83,
   "id": "4a4bdd93",
   "metadata": {},
   "outputs": [],
   "source": [
    "ugen=uniform(0,1)"
   ]
  },
  {
   "cell_type": "code",
   "execution_count": 84,
   "id": "5ca62e9d",
   "metadata": {},
   "outputs": [
    {
     "data": {
      "text/plain": [
       "array([0.89497783, 0.55863574, 0.91227607, 0.18294711, 0.23077149,\n",
       "       0.70166042, 0.36725696, 0.71386089, 0.31881254, 0.33777682])"
      ]
     },
     "execution_count": 84,
     "metadata": {},
     "output_type": "execute_result"
    }
   ],
   "source": [
    "ugen.rvs(10)"
   ]
  },
  {
   "cell_type": "markdown",
   "id": "d28af2aa",
   "metadata": {},
   "source": [
    "## RandomizedSearchCV를 사용한 하이퍼파라미터 최적화"
   ]
  },
  {
   "cell_type": "code",
   "execution_count": 85,
   "id": "5ae89d99",
   "metadata": {},
   "outputs": [],
   "source": [
    "params={'min_impurity_decrease':uniform(0.0001,0.001),\n",
    "        'max_depth': randint(20,50),\n",
    "        'min_samples_split':randint(2,25),\n",
    "        'min_samples_leaf':randint(1,25),\n",
    "}"
   ]
  },
  {
   "cell_type": "code",
   "execution_count": 86,
   "id": "26287d2e",
   "metadata": {},
   "outputs": [],
   "source": [
    "from sklearn.model_selection import RandomizedSearchCV\n",
    "from sklearn.tree import DecisionTreeClassifier"
   ]
  },
  {
   "cell_type": "code",
   "execution_count": 87,
   "id": "482b2825",
   "metadata": {},
   "outputs": [],
   "source": [
    "dt= DecisionTreeClassifier(random_state=42)"
   ]
  },
  {
   "cell_type": "code",
   "execution_count": 88,
   "id": "2ec1168a",
   "metadata": {},
   "outputs": [
    {
     "data": {
      "text/plain": [
       "{'max_depth': 39,\n",
       " 'min_impurity_decrease': np.float64(0.00034102546602601173),\n",
       " 'min_samples_leaf': 7,\n",
       " 'min_samples_split': 13}"
      ]
     },
     "execution_count": 88,
     "metadata": {},
     "output_type": "execute_result"
    }
   ],
   "source": [
    "rs=RandomizedSearchCV(dt,params,n_iter=100, n_jobs=1,random_state=42)\n",
    "rs.fit(train_input,train_target)\n",
    "rs.best_params_"
   ]
  },
  {
   "cell_type": "code",
   "execution_count": 91,
   "id": "7a283573",
   "metadata": {},
   "outputs": [
    {
     "data": {
      "text/plain": [
       "np.float64(0.8695428296438884)"
      ]
     },
     "execution_count": 91,
     "metadata": {},
     "output_type": "execute_result"
    }
   ],
   "source": [
    "np.max(rs.cv_results_[\"mean_test_score\"])"
   ]
  },
  {
   "cell_type": "code",
   "execution_count": 90,
   "id": "7e7d6186",
   "metadata": {},
   "outputs": [
    {
     "name": "stdout",
     "output_type": "stream",
     "text": [
      "0.86\n"
     ]
    }
   ],
   "source": [
    "dt=rs.best_estimator_\n",
    "print(dt.score(test_input,test_target))"
   ]
  }
 ],
 "metadata": {
  "kernelspec": {
   "display_name": "mlbasic",
   "language": "python",
   "name": "python3"
  },
  "language_info": {
   "codemirror_mode": {
    "name": "ipython",
    "version": 3
   },
   "file_extension": ".py",
   "mimetype": "text/x-python",
   "name": "python",
   "nbconvert_exporter": "python",
   "pygments_lexer": "ipython3",
   "version": "3.12.9"
  }
 },
 "nbformat": 4,
 "nbformat_minor": 5
}
